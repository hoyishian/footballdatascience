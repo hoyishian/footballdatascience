{
 "metadata": {
  "language_info": {
   "codemirror_mode": {
    "name": "ipython",
    "version": 3
   },
   "file_extension": ".py",
   "mimetype": "text/x-python",
   "name": "python",
   "nbconvert_exporter": "python",
   "pygments_lexer": "ipython3",
   "version": "3.7.4"
  },
  "orig_nbformat": 2,
  "kernelspec": {
   "name": "python374jvsc74a57bd04cd7ab41f5fca4b9b44701077e38c5ffd31fe66a6cab21e0214b68d958d0e462",
   "display_name": "Python 3.7.4 64-bit"
  }
 },
 "nbformat": 4,
 "nbformat_minor": 2,
 "cells": [
  {
   "cell_type": "code",
   "execution_count": 2,
   "metadata": {},
   "outputs": [
    {
     "output_type": "error",
     "ename": "ModuleNotFoundError",
     "evalue": "No module named 'pandas'",
     "traceback": [
      "\u001b[0;31m---------------------------------------------------------------------------\u001b[0m",
      "\u001b[0;31mModuleNotFoundError\u001b[0m                       Traceback (most recent call last)",
      "\u001b[0;32m<ipython-input-2-2eea96bc5d59>\u001b[0m in \u001b[0;36m<module>\u001b[0;34m\u001b[0m\n\u001b[0;32m----> 1\u001b[0;31m \u001b[0;32mimport\u001b[0m \u001b[0mpandas\u001b[0m \u001b[0;32mas\u001b[0m \u001b[0mpd\u001b[0m\u001b[0;34m\u001b[0m\u001b[0;34m\u001b[0m\u001b[0m\n\u001b[0m\u001b[1;32m      2\u001b[0m \u001b[0;32mimport\u001b[0m \u001b[0mrequests\u001b[0m\u001b[0;34m\u001b[0m\u001b[0;34m\u001b[0m\u001b[0m\n\u001b[1;32m      3\u001b[0m \u001b[0;32mfrom\u001b[0m \u001b[0mbs4\u001b[0m \u001b[0;32mimport\u001b[0m \u001b[0mBeautifulSoup\u001b[0m\u001b[0;34m\u001b[0m\u001b[0;34m\u001b[0m\u001b[0m\n\u001b[1;32m      4\u001b[0m \u001b[0;32mimport\u001b[0m \u001b[0mre\u001b[0m\u001b[0;34m\u001b[0m\u001b[0;34m\u001b[0m\u001b[0m\n",
      "\u001b[0;31mModuleNotFoundError\u001b[0m: No module named 'pandas'"
     ]
    }
   ],
   "source": [
    "import pandas as pd\n",
    "import requests\n",
    "from bs4 import BeautifulSoup\n",
    "import re"
   ]
  },
  {
   "source": [
    "def extract_goalkeeper_stats(player_link):\n",
    "    new_player_link = player_link.replace(\"summary\", \"keeper\")\n",
    "    df = pd.read_html(new_player_link)[0]\n",
    "    print(df)\n",
    "\n",
    "def extract_player_stats(player_link):\n",
    "    new_player_link = player_link.replace(\"summary\", \"passing\")\n",
    "    df = pd.read_html(new_player_link)[0]\n",
    "    print(df)"
   ],
   "cell_type": "code",
   "metadata": {},
   "execution_count": null,
   "outputs": []
  },
  {
   "cell_type": "code",
   "execution_count": 2,
   "metadata": {},
   "outputs": [
    {
     "output_type": "error",
     "ename": "NameError",
     "evalue": "name 'requests' is not defined",
     "traceback": [
      "\u001b[0;31m---------------------------------------------------------------------------\u001b[0m",
      "\u001b[0;31mNameError\u001b[0m                                 Traceback (most recent call last)",
      "\u001b[0;32m<ipython-input-2-d848dce03cfd>\u001b[0m in \u001b[0;36m<module>\u001b[0;34m\u001b[0m\n\u001b[1;32m     27\u001b[0m \u001b[0;31m# Get List of Teams\u001b[0m\u001b[0;34m\u001b[0m\u001b[0;34m\u001b[0m\u001b[0;34m\u001b[0m\u001b[0m\n\u001b[1;32m     28\u001b[0m \u001b[0murl\u001b[0m \u001b[0;34m=\u001b[0m \u001b[0;34m'https://fbref.com/en/comps/'\u001b[0m \u001b[0;34m+\u001b[0m \u001b[0mfirst_url_value\u001b[0m\u001b[0;34m\u001b[0m\u001b[0;34m\u001b[0m\u001b[0m\n\u001b[0;32m---> 29\u001b[0;31m \u001b[0mres\u001b[0m \u001b[0;34m=\u001b[0m \u001b[0mrequests\u001b[0m\u001b[0;34m.\u001b[0m\u001b[0mget\u001b[0m\u001b[0;34m(\u001b[0m\u001b[0murl\u001b[0m\u001b[0;34m)\u001b[0m\u001b[0;34m\u001b[0m\u001b[0;34m\u001b[0m\u001b[0m\n\u001b[0m\u001b[1;32m     30\u001b[0m \u001b[0mhtml_page\u001b[0m \u001b[0;34m=\u001b[0m \u001b[0mres\u001b[0m\u001b[0;34m.\u001b[0m\u001b[0mcontent\u001b[0m\u001b[0;34m\u001b[0m\u001b[0;34m\u001b[0m\u001b[0m\n\u001b[1;32m     31\u001b[0m \u001b[0;34m\u001b[0m\u001b[0m\n",
      "\u001b[0;31mNameError\u001b[0m: name 'requests' is not defined"
     ]
    }
   ],
   "source": [
    "url_dict = {\"EPL\": \"9/Premier-League-Stats\", \"Ligue 1\": \"13/Ligue-1-Stats\",\n",
    "            \"Bundesliga\": \"20/Bundesliga-Stats\", \"Serie A\": \"11/Serie-A-Stats\", \"La Liga\": \"12/La-Liga-Stats\"}\n",
    "league_dict = {\"EPL\": \"s10728\", \"Ligue 1\": \"s10732\",\n",
    "               \"Bundesliga\": \"s10737\", \"Serie A\": \"s10730\", \"La Liga\": \"s10731\"}\n",
    "player_file_dict = {\"EPL\": \"playerstats_epl.csv\", \"Ligue 1\": \"playerstats_ligue1.csv\",\n",
    "                    \"Bundesliga\": \"playerstats_bundesliga.csv\", \"Serie A\": \"playerstats_seriea.csv\", \"La Liga\": \"playerstats_laliga.csv\"}\n",
    "goalkeeper_file_dict = {\"EPL\": \"goalkeeperstats_epl.csv\", \"Ligue 1\": \"goalkeeperstats_ligue1.csv\",\n",
    "                        \"Bundesliga\": \"goalkeeperstats_bundesliga.csv\", \"Serie A\": \"goalkeeperstats_seriea.csv\", \"La Liga\": \"goalkeeperstats_laliga.csv\"}\n",
    "\n",
    "league = input(\n",
    "    \"Enter League Here (EPL, Ligue 1, Bundesliga, Serie A, La Liga). Press Enter when ready: \")\n",
    "\n",
    "first_url_value = \"\"\n",
    "league_code_value = \"\"\n",
    "player_file_name = \"\"\n",
    "goalkeeper_file_name = \"\"\n",
    "\n",
    "if(url_dict.get(league) is None):\n",
    "    print(\"Invalid League! Please enter League again!\")\n",
    "    exit()\n",
    "else:\n",
    "    first_url_value += url_dict[league]\n",
    "    league_code_value += league_dict[league]\n",
    "    player_file_name += player_file_dict[league]\n",
    "    goalkeeper_file_name += goalkeeper_file_dict[league]\n",
    "\n",
    "# Get List of Teams\n",
    "url = 'https://fbref.com/en/comps/' + first_url_value\n",
    "res = requests.get(url)\n",
    "html_page = res.content\n",
    "\n",
    "soup = BeautifulSoup(html_page, 'html.parser')\n",
    "\n",
    "text_contains_squads = \"/en/squads/\"\n",
    "teams_array = []\n",
    "final_team_array = []\n",
    "teams_exclude = ['/en/squads/', '/en/squads/411b1108/Arsenal-Women-Stats', '/en/squads/7f2012ad/Lyon-Women-Stats', '/en/squads/a1393014/Wolfsburg-Women-Stats', '/en/squads/613577b8/Juventus-Women-Stats', '/en/squads/795ca75e/Boca-Juniors-Stats', '/en/squads/2466c132/Sydney-FC-Stats', '/en/squads/6082332e/Melbourne-City-Women-Stats', '/en/squads/e69cb5b6/Bolivar-Stats', '/en/squads/639950ae/Flamengo-Stats', '/en/squads/488c6ba1/Ludogorets-Razgrad-Stats', '/en/squads/8514c671/Forge-FC-Stats', '/en/squads/3e3fbf36/Univ-Catolica-Stats', '/en/squads/1837b9f6/Guangzhou-Evergrande-Taobao-Stats', '/en/squads/e0b973a6/Atletico-Nacional-Stats', '/en/squads/111cbfb1/Slavia-Prague-Stats', '/en/squads/3c4fb635/Midtjylland-Stats', '/en/squads/d7319d80/HJK-Helsinki-Stats', '/en/squads/2fdb4aef/Olympiacos-Stats', '/en/squads/6611f992/Ferencvaros-Stats', '/en/squads/3249478a/Goa-Stats', '/en/squads/95f42e44/Persepolis-Stats', '/en/squads/858d58b2/Kawasaki-Frontale-Stats',\n",
    "                 '/en/squads/ae23a242/Jeonbuk-Stats', '/en/squads/972e2539/Al-Hilal-Stats', '/en/squads/18d3c3a3/America-Stats', '/en/squads/174bd5a0/Molde-Stats', '/en/squads/ca6492f2/LSK-Kvinner-Stats', '/en/squads/4d4fc0b8/Olimpia-Asuncion-Stats', '/en/squads/8917b8a9/Sporting-Cristal-Stats', '/en/squads/a73408a7/Legia-Warsaw-Stats', '/en/squads/5e876ee6/Porto-Stats', '/en/squads/ff04e205/CFR-Cluj-Stats', '/en/squads/97d80fef/Mamelodi-Sundowns-Stats', '/en/squads/98ce363d/Zenit-Stats', '/en/squads/b81aa4fa/Celtic-Stats', '/en/squads/099c6eb5/Red-Star-Belgrade-Stats', '/en/squads/4b682260/Young-Boys-Stats', '/en/squads/f3d8c8b9/Malmo-Stats', '/en/squads/89f584e1/KopparbergsGoteborg-Stats', '/en/squads/0f9294bd/Besiktas-Stats', '/en/squads/e89d5a28/Shakhtar-Donetsk-Stats', '/en/squads/26ebba72/Nacional-Stats', '/en/squads/6218ebd4/Seattle-Sounders-FC-Stats', '/en/squads/85c458aa/North-Carolina-Courage-Stats', '/en/squads/2583cf18/Caracas-Stats']\n",
    "text = soup.find_all(\"a\", href=True)\n",
    "for a in text:\n",
    "    if text_contains_squads in a['href']:\n",
    "        if a['href'] not in teams_exclude:\n",
    "            teams_array.append(a['href'])\n",
    "\n",
    "for i in teams_array:\n",
    "    final_team_array.append(\"https://fbref.com\"+i)\n",
    "\n",
    "final_team_array = list(set(final_team_array))\n",
    "print(final_team_array)"
   ]
  },
  {
   "cell_type": "code",
   "execution_count": null,
   "metadata": {},
   "outputs": [],
   "source": [
    "# Get List of Premier League Teams\n",
    "url = 'https://fbref.com/en/comps/9/stats/Premier-League-Stats'\n",
    "res = requests.get(url)\n",
    "html_page = res.content\n",
    "\n",
    "soup = BeautifulSoup(html_page, 'html.parser')\n",
    "\n",
    "text_contains_squads = \"/en/squads/\"\n",
    "teams_array = []\n",
    "final_team_array = []\n",
    "teams_exclude = ['/en/squads/', '/en/squads/822bd0ba/Liverpool-Stats', '/en/squads/411b1108/Arsenal-Women-Stats', '/en/squads/206d90db/Barcelona-Stats', '/en/squads/e2d8892c/Paris-Saint-Germain-Stats', '/en/squads/7f2012ad/Lyon-Women-Stats', '/en/squads/054efa67/Bayern-Munich-Stats', '/en/squads/a1393014/Wolfsburg-Women-Stats', '/en/squads/e0652b02/Juventus-Stats', '/en/squads/613577b8/Juventus-Women-Stats', '/en/squads/795ca75e/Boca-Juniors-Stats', '/en/squads/2466c132/Sydney-FC-Stats', '/en/squads/6082332e/Melbourne-City-Women-Stats', '/en/squads/50f2a074/Red-Bull-Salzburg-Stats', '/en/squads/f1e6c5f1/Club-Brugge-Stats', '/en/squads/e69cb5b6/Bolivar-Stats', '/en/squads/639950ae/Flamengo-Stats', '/en/squads/488c6ba1/Ludogorets-Razgrad-Stats', '/en/squads/8514c671/Forge-FC-Stats', '/en/squads/3e3fbf36/Univ-Catolica-Stats', '/en/squads/1837b9f6/Guangzhou-Evergrande-Taobao-Stats', '/en/squads/e0b973a6/Atletico-Nacional-Stats', '/en/squads/edd0d381/Dinamo-Zagreb-Stats', '/en/squads/111cbfb1/Slavia-Prague-Stats', '/en/squads/3c4fb635/Midtjylland-Stats', '/en/squads/8c71aef1/Barcelona-SC-Stats', '/en/squads/d7319d80/HJK-Helsinki-Stats', '/en/squads/2fdb4aef/Olympiacos-Stats', '/en/squads/6611f992/Ferencvaros-Stats', '/en/squads/3249478a/Goa-Stats', '/en/squads/95f42e44/Persepolis-Stats', '/en/squads/858d58b2/Kawasaki-Frontale-Stats', '/en/squads/ae23a242/Jeonbuk-Stats', '/en/squads/972e2539/Al-Hilal-Stats', '/en/squads/18d3c3a3/America-Stats', '/en/squads/19c3f8c4/Ajax-Stats', '/en/squads/9522e7b4/PSV-Stats', '/en/squads/174bd5a0/Molde-Stats', '/en/squads/ca6492f2/LSK-Kvinner-Stats', '/en/squads/4d4fc0b8/Olimpia-Asuncion-Stats', '/en/squads/8917b8a9/Sporting-Cristal-Stats', '/en/squads/a73408a7/Legia-Warsaw-Stats', '/en/squads/5e876ee6/Porto-Stats', '/en/squads/ff04e205/CFR-Cluj-Stats', '/en/squads/97d80fef/Mamelodi-Sundowns-Stats', '/en/squads/98ce363d/Zenit-Stats', '/en/squads/b81aa4fa/Celtic-Stats', '/en/squads/099c6eb5/Red-Star-Belgrade-Stats', '/en/squads/4b682260/Young-Boys-Stats', '/en/squads/f3d8c8b9/Malmo-Stats', '/en/squads/89f584e1/KopparbergsGoteborg-Stats', '/en/squads/0f9294bd/Besiktas-Stats', '/en/squads/e89d5a28/Shakhtar-Donetsk-Stats', '/en/squads/26ebba72/Nacional-Stats', '/en/squads/6218ebd4/Seattle-Sounders-FC-Stats', '/en/squads/85c458aa/North-Carolina-Courage-Stats', '/en/squads/2583cf18/Caracas-Stats']\n",
    "text = soup.find_all(\"a\", href=True)\n",
    "for a in text:\n",
    "    if text_contains_squads in a['href']:\n",
    "        if a['href'] not in teams_exclude:\n",
    "            teams_array.append(a['href'])\n",
    "\n",
    "for i in teams_array:\n",
    "    final_team_array.append(\"https://fbref.com\"+i)"
   ]
  },
  {
   "cell_type": "code",
   "execution_count": null,
   "metadata": {},
   "outputs": [],
   "source": [
    "# Get List of all Premier League Players and their respective links\n",
    "player_array = []\n",
    "player_final_array = []\n",
    "final_link = []\n",
    "\n",
    "text_contains_players = \"/en/players/\"\n",
    "\n",
    "players_to_remove = ['/en/players/', '/en/players/5b97f5ec/Yuki-Nagasato', '/en/players/b5b0068e/Onome-Ebi', '/en/players/e2e9c250/Santi-Cazorla', '/en/players/293211e1/Aritz-Aduriz', '/en/players/b418dbd4/Raul-Garcia', '/en/players/71c5f16f/Andrea-Pirlo', '/en/players/cda50d6b/Mana-Iwabuchi', '/en/players/f07be45a/Wayne-Rooney', '/en/players/82dbf623/Fernando-Llorente', '/en/players/ee65d412/Precious-Dede', '/en/players/e342ad68/Mohamed-Salah', '/en/players/e358587b/Pepe-Reina', '/en/players/655e7bd0/Alexandra-Popp', '/en/players/63b0ca6b/Alvaro-Negredo', '/en/players/59ef6268/Tobin-Heath']\n",
    "\n",
    "\n",
    "for team_url in final_team_array:\n",
    "    res = requests.get(team_url)\n",
    "    team_html_page = res.content\n",
    "\n",
    "    soup_team = BeautifulSoup(team_html_page, 'html.parser')\n",
    "    \n",
    "    text = soup_team.find_all(\"a\", href=True)\n",
    "    for a in text:\n",
    "        if text_contains_players in a[\"href\"]:\n",
    "            if a[\"href\"] not in players_to_remove:\n",
    "                player_array.append(a[\"href\"])\n",
    "    player_array = list(set(player_array))\n",
    "\n",
    "for i in player_array:\n",
    "    if \"matchlog\" in i:\n",
    "        player_final_array.append(\"https://fbref.com\"+i)\n",
    "\n",
    "for link in player_final_array:\n",
    "    final_link.append(link.replace(\"2020-2021\", \"s10728\"))\n",
    "\n",
    "final_link.sort()"
   ]
  },
  {
   "cell_type": "code",
   "execution_count": null,
   "metadata": {},
   "outputs": [],
   "source": [
    "# Check if Player is GK. \n",
    "# If GK, call extract_goalkeeper_stats\n",
    "# If not GK, call extract_player_stats\n",
    "for player in final_link:\n",
    "\n",
    "    res_player = requests.get(player)\n",
    "    html_page_player = res_player.content\n",
    "\n",
    "    new_soup = BeautifulSoup(html_page_player, 'html.parser')\n",
    "\n",
    "    searched_word = \"GK\"\n",
    "\n",
    "    new_result = new_soup.find_all(string= re.compile('.*{0}.*'.format(searched_word)))\n",
    "\n",
    "    if(len(new_result) == 0):\n",
    "        extract_player_stats(player)\n",
    "    else:\n",
    "        extract_goalkeeper_stats(player)\n",
    "    break"
   ]
  }
 ]
}